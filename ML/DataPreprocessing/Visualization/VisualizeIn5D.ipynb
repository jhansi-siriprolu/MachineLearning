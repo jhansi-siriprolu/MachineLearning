{
 "cells": [
  {
   "cell_type": "code",
   "execution_count": null,
   "metadata": {},
   "outputs": [],
   "source": [
    "import matplotlib.pyplot as plt\n",
    "import seaborn as sns\n",
    "import numpy as np\n",
    "import pandas as pd"
   ]
  },
  {
   "cell_type": "code",
   "execution_count": null,
   "metadata": {},
   "outputs": [],
   "source": [
    "df = pd.read_csv(\"WH Report_preprocessed.csv\")\n",
    "df.head()"
   ]
  },
  {
   "cell_type": "code",
   "execution_count": null,
   "metadata": {},
   "outputs": [],
   "source": [
    "#numeric vs numeric\n",
    "#scatter plot"
   ]
  },
  {
   "cell_type": "code",
   "execution_count": null,
   "metadata": {},
   "outputs": [],
   "source": [
    "def hist_categorical_numeric(categorical_col,numeric_col,df):\n",
    "    possibilities = df[categorical_col].unique()\n",
    "    if len(possibilities) < 10:\n",
    "        for pos in possibilities:\n",
    "            BM = pos == df[categorical_col]\n",
    "            plt.hist(df[BM][numeric_col], label= pos, histtype='step')\n",
    "            plt.title(\"Step Hist\"+categorical_col+\" VS \"+numeric_col)\n",
    "        plt.legend()\n",
    "        plt.show()"
   ]
  },
  {
   "cell_type": "code",
   "execution_count": null,
   "metadata": {},
   "outputs": [],
   "source": [
    "def differentiate_num_cat_cols(df):\n",
    "    cat_col = [col for col in df.columns if df[col].dtype == 'O']\n",
    "    num_col = [col for col in df.columns if col not in cat_col]\n",
    "    return cat_col,num_col"
   ]
  },
  {
   "cell_type": "code",
   "execution_count": null,
   "metadata": {},
   "outputs": [],
   "source": [
    "cat_cols,num_cols = differentiate_num_cat_cols(df)"
   ]
  },
  {
   "cell_type": "code",
   "execution_count": null,
   "metadata": {},
   "outputs": [],
   "source": [
    "cat_cols"
   ]
  },
  {
   "cell_type": "code",
   "execution_count": null,
   "metadata": {},
   "outputs": [],
   "source": [
    "num_cols"
   ]
  },
  {
   "cell_type": "code",
   "execution_count": null,
   "metadata": {},
   "outputs": [],
   "source": [
    "for cat_col in cat_cols:\n",
    "    for num_col in num_cols:\n",
    "        hist_categorical_numeric(cat_col,num_col,df)\n",
    "        "
   ]
  },
  {
   "cell_type": "code",
   "execution_count": null,
   "metadata": {},
   "outputs": [],
   "source": [
    "def visualize_single_numeric(numeric_cols,df):\n",
    "    l = len(numeric_cols)\n",
    "    plt.figure(figsize= (2*l,l))\n",
    "    for i,col in enumerate(numeric_cols):\n",
    "        plt.subplot(2,l,i+1)\n",
    "        plt.hist(df[col])\n",
    "        # plt.xticks(np.linspace(10,100,11))\n",
    "        plt.title(f\"Histogram: {col}\")\n",
    "        plt.subplot(2,l,i+l+1)\n",
    "        plt.boxplot(df[col], vert = False)\n",
    "        # plt.yticks([1],[col])\n",
    "        plt.title(f\"Box Plot: {col}\")\n",
    "    plt.tight_layout()"
   ]
  },
  {
   "cell_type": "code",
   "execution_count": null,
   "metadata": {},
   "outputs": [],
   "source": [
    "visualize_single_numeric(num_cols, df)"
   ]
  },
  {
   "cell_type": "code",
   "execution_count": null,
   "metadata": {},
   "outputs": [],
   "source": [
    "def scatter_vs_categotical(num_col1, num_col2, cat_col,df):\n",
    "    cat_poss = df[cat_col].unique()\n",
    "    print(cat_poss)\n",
    "    if len(cat_poss) <= 10:\n",
    "        for poss in cat_poss:\n",
    "            BM = df[cat_col] == poss\n",
    "            X = df[BM][num_col1]\n",
    "            y = df[BM][num_col2]\n",
    "            plt.scatter(X,y)\n",
    "            plt.title(poss)\n",
    "            plt.show()\n",
    "        plt.tight_layout()"
   ]
  },
  {
   "cell_type": "code",
   "execution_count": null,
   "metadata": {},
   "outputs": [],
   "source": [
    "scatter_vs_categotical(\"Healthy_life_expectancy_at_birth\", \"Log_GDP_per_capita\",\"year\",df)"
   ]
  },
  {
   "cell_type": "code",
   "execution_count": null,
   "metadata": {},
   "outputs": [],
   "source": [
    "def year_plot(year):\n",
    "\n",
    "    BM = df[cat_col] == year\n",
    "    X = df[BM][\"Healthy_life_expectancy_at_birth\"]\n",
    "    y = df[BM][\"Log_GDP_per_capita\"]\n",
    "    plt.scatter(X,y)\n",
    "    plt.title(year)\n",
    "    plt.show()"
   ]
  },
  {
   "cell_type": "code",
   "execution_count": null,
   "metadata": {},
   "outputs": [],
   "source": [
    "from ipywidgets import interact, widgets\n",
    "interact(year_plot,year = widgets.IntSlider(min= 2010, max = 2019, step = 1, value = 2010))"
   ]
  }
 ],
 "metadata": {
  "kernelspec": {
   "display_name": "pyspark",
   "language": "python",
   "name": "python3"
  },
  "language_info": {
   "codemirror_mode": {
    "name": "ipython",
    "version": 3
   },
   "file_extension": ".py",
   "mimetype": "text/x-python",
   "name": "python",
   "nbconvert_exporter": "python",
   "pygments_lexer": "ipython3",
   "version": "3.12.2"
  }
 },
 "nbformat": 4,
 "nbformat_minor": 2
}
